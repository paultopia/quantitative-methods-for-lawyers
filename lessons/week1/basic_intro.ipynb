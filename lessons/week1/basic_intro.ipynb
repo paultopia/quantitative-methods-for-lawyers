{
 "cells": [
  {
   "cell_type": "markdown",
   "metadata": {},
   "source": [
    "In this first week of the course, we're going to cover some core concepts of computer programming. With this, we will build a foundation to do more interesting things in the coming weeks. \n",
    "\n",
    "## What is Computer Programming?\n",
    "\n",
    "Computers basically just do one thing: they complete very simple operations at astonishing speed.  \n",
    "\n",
    "For example, suppose you wanted to calculate the thousandth number of the [Fibonacci Sequence](https://www.mathsisfun.com/numbers/fibonacci-sequence.html) --- the sequence of numbers such that starts with 0 and 1, and then each subsequent number is the sum of the previous two numbers.  For example: \n",
    "\n",
    "0 1 1 2 3 5 8 13 \n",
    "\n",
    "Don't go on until you are satisfied you know what the next number is. \n",
    "\n",
    "As you can imagine, it would take a fairly long time to calculate it by hand.  However, a computer can do it in less than a second. I'll show you: "
   ]
  },
  {
   "cell_type": "code",
   "execution_count": 10,
   "metadata": {
    "collapsed": false
   },
   "outputs": [
    {
     "name": "stdout",
     "output_type": "stream",
     "text": [
      "the 1000th number in the Fibonacci sequence is: 26863810024485359386146727202142923967616609318986952340123175997617981700247881689338369654483356564191827856161443356312976673642210350324634850410377680367334151172899169723197082763985615764450078474174626\n"
     ]
    }
   ],
   "source": [
    "digit = 3\n",
    "first = 0\n",
    "second = 1\n",
    "while digit < 1001:\n",
    "    answer = first + second\n",
    "    first = second\n",
    "    second = answer\n",
    "    digit += 1\n",
    "print(\"the \" + str(digit - 1) + \"th number in the Fibonacci sequence is: \" + str(answer))\n",
    "    "
   ]
  },
  {
   "cell_type": "markdown",
   "metadata": {},
   "source": [
    "This is obviously not a number you would want to try to compute by hand, or even using a pocket calculator! (Incidentally, if you looked up a list of those numbers and found a different result, try comparing it to the 999th number. People seem to differ on whether to start counting from 0 or 1 in enumerating the Fibonacci sequence.)\n",
    "\n",
    "Everything that computers do---including the system you're reading this on right now---is built up by doing very simple (\"primitive\") operations many many times. The way it works is that programmers build those primitives---basic arithmetic operations and pushing things around in memory, basically---into more complicated pieces of functionality. Then the next programmer can use that complicated piece of functionality (often called an \"abstraction\") and build some of those up into something more complicated, and so on, and so on. \n",
    "\n",
    "We will start at a much higher level, but you'll learn to do that yourself!\n",
    "\n",
    "Let's start by breaking down the Fibonacci sequence code above: \n",
    "\n",
    "```\n",
    "digit = 3\n",
    "first = 0\n",
    "second = 1\n",
    "while digit < 1001:\n",
    "    answer = first + second\n",
    "    first = second\n",
    "    second = answer\n",
    "    digit += 1\n",
    "print(\"the \" + str(digit - 1) + \"th number in the Fibonacci sequence is: \" + str(answer))\n",
    "    \n",
    "```"
   ]
  },
  {
   "cell_type": "code",
   "execution_count": null,
   "metadata": {
    "collapsed": true
   },
   "outputs": [],
   "source": []
  }
 ],
 "metadata": {
  "kernelspec": {
   "display_name": "Python 3",
   "language": "python",
   "name": "python3"
  },
  "language_info": {
   "codemirror_mode": {
    "name": "ipython",
    "version": 3
   },
   "file_extension": ".py",
   "mimetype": "text/x-python",
   "name": "python",
   "nbconvert_exporter": "python",
   "pygments_lexer": "ipython3",
   "version": "3.5.4"
  }
 },
 "nbformat": 4,
 "nbformat_minor": 0
}
