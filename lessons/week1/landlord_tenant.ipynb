{
 "cells": [
  {
   "cell_type": "markdown",
   "metadata": {},
   "source": [
    "# Representing Basic Landlord-Tenant Law\n",
    "\n",
    "The logic of the law and the logic of computers aren't that different. If you remember back to the logic games section of the LSAT, effectively what you were demonstrating was your ability to engage in structured, conditional reasoning---exactly the same kind of reasoning you have to do when you read a statute, and the kind of reasoning that computers do (and that you have to model) when you program. \n",
    "\n",
    "To illustrate this, let's represent a few pieces of [Iowa's Landlord-Tenant Act](https://www.legis.iowa.gov/docs/code/562a.pdf) in code. \n",
    "\n",
    "In order to do this, we'll introduce a new programming idea, the **class**.  Basically, a class is a way to collect data of a specific shape, and stuff that you can do with the data, together in a convenient way. You can define a class with the class keyword, and then you can instantiate individual cases of a class (\"instances\" or \"objects\") by calling it like a function.  Let's look at an example."
   ]
  },
  {
   "cell_type": "code",
   "execution_count": 1,
   "metadata": {
    "collapsed": true
   },
   "outputs": [],
   "source": [
    "class Termination_Notice(object):\n",
    "    def __init__(self, termination_days):\n",
    "        self.termination_days = termination_days\n",
    "        \n",
    "    def has_adequate_notice(self, days_given):\n",
    "        if days_given >= self.termination_days:\n",
    "            return True\n",
    "        return False"
   ]
  },
  {
   "cell_type": "markdown",
   "metadata": {},
   "source": [
    "Let's go through that code.\n",
    "\n",
    "    class Termination_Notice(object):\n",
    "\n",
    "The `class` keyword is how you declare a class. By convention, classes start with a capital letter (though they don't have to). The thing in parens is what the class *inherits* from, but you don't need to worry about that now---just know that most classes we'll create in this course will inherit from object. (Consider it a kind of boilerplate). \n",
    "\n",
    "As is usual for Python syntax, we designate that a bunch of stuff that follows will be part of this class by a colon, and then by indenting the stuff that goes inside to follow. \n",
    "\n",
    "    def __init__(self, termination_days):\n",
    "        self.termination_days = termination_days\n",
    "\n",
    "This should look familiar. It's a function definition. However, a function definition inside a class is called a *method*---it's a function that belongs to an instance of that class, and we call it by appending it to its owner with a period (we'll see an example of this in a moment). \n",
    "\n",
    "Every method takes a special first parameter, by convention called `self`. This is the actual instance of the class that it belongs to, and allows you to access and change properties of that instance (the data it stores). You don't have to pass that in when you call it, it's implicitly passed in.  So this method, when called on an instance of `Termination_Notice`, takes one parameter, `termination_days`, and sets that to the value locked up in the object.  \n",
    "\n",
    "Every class has a special `__init__` method (that's two underscores on either side) that specifies what happens when you intialize the class.\n",
    "\n",
    "Let's take a look at how this works."
   ]
  },
  {
   "cell_type": "code",
   "execution_count": 2,
   "metadata": {
    "collapsed": true
   },
   "outputs": [],
   "source": [
    "iowa_termination_for_nonpayment = Termination_Notice(3)"
   ]
  },
  {
   "cell_type": "code",
   "execution_count": 3,
   "metadata": {
    "collapsed": false
   },
   "outputs": [
    {
     "name": "stdout",
     "output_type": "stream",
     "text": [
      "3\n"
     ]
    }
   ],
   "source": [
    "print(iowa_termination_for_nonpayment.termination_days)"
   ]
  },
  {
   "cell_type": "markdown",
   "metadata": {},
   "source": [
    "As you can see, we initialized an instance of `Termination_Notice` called `iowa_termination_for_nonpayment` with a `termination_days` value of 3, and then looked at the object and saw that the value stuck around. \n",
    "\n",
    "**This represents a legal fact**: Iowa Code 562A.27(2) provides that a landlord may give a three-day notice to a tenant if the rent isn't paid on time, and then may file a lawsuit to evict them if they don't pay within the three days. Because we created an abstract `Termination_Notice` class, we can specify Iowa's particular rule as an instance of a class. If some other state, say, Hawkeye, has a five-day notice, we could also do something like `hawkeye_termination_for_nonpayment = Termination_Notice(5)` and represent Hawkeye's rule.\n",
    "\n",
    "In other words, the class `Termination_Notice` represents the abstract concept of a rule for how long notice the landlord has to give you, and then individual instances of that class represent the specific rules of particular states in specific situations."
   ]
  },
  {
   "cell_type": "code",
   "execution_count": 4,
   "metadata": {
    "collapsed": false
   },
   "outputs": [
    {
     "name": "stdout",
     "output_type": "stream",
     "text": [
      "The landlord gave enough notice, the eviction may proceed.\n"
     ]
    }
   ],
   "source": [
    "def judge_the_landlord(termination_notice_rule, days_given):\n",
    "    if termination_notice_rule.has_adequate_notice(days_given):\n",
    "        print(\"The landlord gave enough notice, the eviction may proceed.\")\n",
    "    else:\n",
    "        print(\"The landlord did not give enough notice, dismiss the eviction.\")\n",
    "\n",
    "judge_the_landlord(iowa_termination_for_nonpayment, 3)"
   ]
  },
  {
   "cell_type": "code",
   "execution_count": 5,
   "metadata": {
    "collapsed": false
   },
   "outputs": [
    {
     "name": "stdout",
     "output_type": "stream",
     "text": [
      "The landlord did not give enough notice, dismiss the eviction.\n"
     ]
    }
   ],
   "source": [
    "judge_the_landlord(iowa_termination_for_nonpayment, 2)"
   ]
  },
  {
   "cell_type": "markdown",
   "metadata": {},
   "source": [
    "Do you see what just happened here? We created a function, `judge_the_landlord` that takes an instance of some kind of termination rule, as well as a number of days of notice that the landlord gave, and then checks to see whether they've followed the law. You could imagine a more complex version of this function as something we might provide to a judge in a landlord-tenant court to keep them from making mistakes about how many days notice the landlord has to give. \n",
    "\n",
    "Notice how within the body of the function we have the call `termination_notice_rule.has_adequate_notice(days_given)`.  This is what a method call looks like: our function takes whatever termination notice rule got passed into our function, and calls its `has_adequate_notice` method with the number of days provided. \n",
    "\n",
    "So long as we use this same general form, we can represent other notice rules as well. For example, Iowa Code 562a.34(1) provides that a landlord may terminate a week-to-week tenancy for no cause with 10 days notice, and a month-to-month or longer tenancy for no cause with 30 days notice. Let's make an instance for that, and then we can use the same function to test our new rule."
   ]
  },
  {
   "cell_type": "code",
   "execution_count": 7,
   "metadata": {
    "collapsed": true
   },
   "outputs": [],
   "source": [
    "iowa_weekly_nocause = Termination_Notice(7)"
   ]
  },
  {
   "cell_type": "markdown",
   "metadata": {},
   "source": [
    "Now we've identified the fact that there are different rules for different situations by having different rule instances, and we can use code to represent the fact that, say, a five-day notice is sufficient for nonpayment, but insufficient for no cause eviction on a weekly lease."
   ]
  },
  {
   "cell_type": "code",
   "execution_count": 8,
   "metadata": {
    "collapsed": false
   },
   "outputs": [
    {
     "name": "stdout",
     "output_type": "stream",
     "text": [
      "The landlord gave enough notice, the eviction may proceed.\n"
     ]
    }
   ],
   "source": [
    "notice_ll_gave = 5\n",
    "judge_the_landlord(iowa_termination_for_nonpayment, notice_ll_gave)"
   ]
  },
  {
   "cell_type": "code",
   "execution_count": 9,
   "metadata": {
    "collapsed": false
   },
   "outputs": [
    {
     "name": "stdout",
     "output_type": "stream",
     "text": [
      "The landlord did not give enough notice, dismiss the eviction.\n"
     ]
    }
   ],
   "source": [
    "judge_the_landlord(iowa_weekly_nocause, notice_ll_gave)"
   ]
  },
  {
   "cell_type": "markdown",
   "metadata": {},
   "source": [
    "## More date calculations, FRCP edition\n",
    "\n",
    "Now let's try to do something a little more complicated (and without any classes). The Federal Rules of Civil Procedure has a rule [just about calculating dates](https://www.law.cornell.edu/rules/frcp/rule_6).  Let's represent it in code!"
   ]
  },
  {
   "cell_type": "code",
   "execution_count": 12,
   "metadata": {
    "collapsed": false
   },
   "outputs": [
    {
     "name": "stdout",
     "output_type": "stream",
     "text": [
      "Requirement already satisfied: python-dateutil in /usr/local/lib/python3.6/site-packages (2.6.1)\n",
      "Requirement already satisfied: six>=1.5 in /usr/local/lib/python3.6/site-packages (from python-dateutil) (1.11.0)\n",
      "\u001b[33mYou are using pip version 10.0.1, however version 18.0 is available.\n",
      "You should consider upgrading via the 'pip install --upgrade pip' command.\u001b[0m\n"
     ]
    }
   ],
   "source": [
    "# if you don't already have dateutil installed (the next cell will throw an error), \n",
    "# then uncomment and run the next line \n",
    "# !pip install python-dateutil"
   ]
  },
  {
   "cell_type": "code",
   "execution_count": 17,
   "metadata": {
    "collapsed": false
   },
   "outputs": [],
   "source": [
    "from dateutil.tz import gettz\n",
    "from dateutil.relativedelta import relativedelta\n",
    "from datetime import datetime\n",
    "\n",
    "def local_time_now():\n",
    "    return datetime.now(gettz())\n",
    "\n",
    "print()"
   ]
  },
  {
   "cell_type": "code",
   "execution_count": 18,
   "metadata": {
    "collapsed": false
   },
   "outputs": [
    {
     "data": {
      "text/plain": [
       "'CDT'"
      ]
     },
     "execution_count": 18,
     "metadata": {},
     "output_type": "execute_result"
    }
   ],
   "source": [
    "datetime.now(gettz()).tzname()"
   ]
  },
  {
   "cell_type": "code",
   "execution_count": 19,
   "metadata": {
    "collapsed": true
   },
   "outputs": [],
   "source": [
    "def local_time_now():\n",
    "    return datetime.now(gettz())"
   ]
  },
  {
   "cell_type": "code",
   "execution_count": 21,
   "metadata": {
    "collapsed": false
   },
   "outputs": [
    {
     "data": {
      "text/plain": [
       "datetime.datetime(2018, 7, 30, 16, 43, 36, 17747, tzinfo=tzfile('/etc/localtime'))"
      ]
     },
     "execution_count": 21,
     "metadata": {},
     "output_type": "execute_result"
    }
   ],
   "source": [
    "local_time_now()"
   ]
  },
  {
   "cell_type": "code",
   "execution_count": 22,
   "metadata": {
    "collapsed": true
   },
   "outputs": [],
   "source": [
    "# WIP, to be contined.  sorting through datetime libraries (probably should use pytz) to avoid stupidity"
   ]
  },
  {
   "cell_type": "code",
   "execution_count": null,
   "metadata": {
    "collapsed": true
   },
   "outputs": [],
   "source": []
  }
 ],
 "metadata": {
  "kernelspec": {
   "display_name": "Python 3",
   "language": "python",
   "name": "python3"
  },
  "language_info": {
   "codemirror_mode": {
    "name": "ipython",
    "version": 3
   },
   "file_extension": ".py",
   "mimetype": "text/x-python",
   "name": "python",
   "nbconvert_exporter": "python",
   "pygments_lexer": "ipython3",
   "version": "3.5.4"
  }
 },
 "nbformat": 4,
 "nbformat_minor": 0
}
